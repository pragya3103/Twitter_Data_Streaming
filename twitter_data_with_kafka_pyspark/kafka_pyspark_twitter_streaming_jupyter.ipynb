{
 "cells": [
  {
   "cell_type": "code",
   "execution_count": 1,
   "id": "f5237bb1",
   "metadata": {},
   "outputs": [],
   "source": [
    "from pyspark.sql.types import StructType, StringType, StructField, DateType, ArrayType, MapType\n",
    "from pyspark.sql import SparkSession\n",
    "from pyspark.sql.functions import explode, split, window\n",
    "from pyspark.sql.functions import *\n",
    "from bson.json_util import *\n",
    "\n",
    "import matplotlib.pyplot as plt"
   ]
  },
  {
   "cell_type": "code",
   "execution_count": 2,
   "id": "829623ed",
   "metadata": {},
   "outputs": [],
   "source": [
    "kafka_topic_name = \"trump\"\n",
    "kafka_bootstrap_servers = \"localhost:9092\"\n",
    "nestTimestampFormat = \"yyyy-MM-dd'T'HH:mm:ss.sss'Z'\"\n",
    "jsonOptions = { \"timestampFormat\": nestTimestampFormat }"
   ]
  },
  {
   "cell_type": "code",
   "execution_count": 3,
   "id": "bfa21200",
   "metadata": {},
   "outputs": [
    {
     "name": "stderr",
     "output_type": "stream",
     "text": [
      "22/01/13 22:18:57 WARN Utils: Your hostname, EMPID21092 resolves to a loopback address: 127.0.1.1; using 192.168.1.6 instead (on interface wlp3s0)\n",
      "22/01/13 22:18:57 WARN Utils: Set SPARK_LOCAL_IP if you need to bind to another address\n",
      "WARNING: An illegal reflective access operation has occurred\n",
      "WARNING: Illegal reflective access by org.apache.spark.unsafe.Platform (file:/opt/spark/jars/spark-unsafe_2.12-3.2.0.jar) to constructor java.nio.DirectByteBuffer(long,int)\n",
      "WARNING: Please consider reporting this to the maintainers of org.apache.spark.unsafe.Platform\n",
      "WARNING: Use --illegal-access=warn to enable warnings of further illegal reflective access operations\n",
      "WARNING: All illegal access operations will be denied in a future release\n"
     ]
    },
    {
     "name": "stdout",
     "output_type": "stream",
     "text": [
      ":: loading settings :: url = jar:file:/opt/spark/jars/ivy-2.5.0.jar!/org/apache/ivy/core/settings/ivysettings.xml\n"
     ]
    },
    {
     "name": "stderr",
     "output_type": "stream",
     "text": [
      "Ivy Default Cache set to: /home/rita/.ivy2/cache\n",
      "The jars for the packages stored in: /home/rita/.ivy2/jars\n",
      "org.apache.spark#spark-sql-kafka-0-10_2.12 added as a dependency\n",
      ":: resolving dependencies :: org.apache.spark#spark-submit-parent-5a55c2d7-6160-4fba-8663-b4e06d624bba;1.0\n",
      "\tconfs: [default]\n",
      "\tfound org.apache.spark#spark-sql-kafka-0-10_2.12;3.2.0 in central\n",
      "\tfound org.apache.spark#spark-token-provider-kafka-0-10_2.12;3.2.0 in central\n",
      "\tfound org.apache.kafka#kafka-clients;2.8.0 in central\n",
      "\tfound org.lz4#lz4-java;1.7.1 in central\n",
      "\tfound org.xerial.snappy#snappy-java;1.1.8.4 in central\n",
      "\tfound org.slf4j#slf4j-api;1.7.30 in central\n",
      "\tfound org.apache.hadoop#hadoop-client-runtime;3.3.1 in central\n",
      "\tfound org.spark-project.spark#unused;1.0.0 in central\n",
      "\tfound org.apache.hadoop#hadoop-client-api;3.3.1 in central\n",
      "\tfound org.apache.htrace#htrace-core4;4.1.0-incubating in central\n",
      "\tfound commons-logging#commons-logging;1.1.3 in local-m2-cache\n",
      "\tfound com.google.code.findbugs#jsr305;3.0.0 in central\n",
      "\tfound org.apache.commons#commons-pool2;2.6.2 in central\n",
      ":: resolution report :: resolve 518ms :: artifacts dl 13ms\n",
      "\t:: modules in use:\n",
      "\tcom.google.code.findbugs#jsr305;3.0.0 from central in [default]\n",
      "\tcommons-logging#commons-logging;1.1.3 from local-m2-cache in [default]\n",
      "\torg.apache.commons#commons-pool2;2.6.2 from central in [default]\n",
      "\torg.apache.hadoop#hadoop-client-api;3.3.1 from central in [default]\n",
      "\torg.apache.hadoop#hadoop-client-runtime;3.3.1 from central in [default]\n",
      "\torg.apache.htrace#htrace-core4;4.1.0-incubating from central in [default]\n",
      "\torg.apache.kafka#kafka-clients;2.8.0 from central in [default]\n",
      "\torg.apache.spark#spark-sql-kafka-0-10_2.12;3.2.0 from central in [default]\n",
      "\torg.apache.spark#spark-token-provider-kafka-0-10_2.12;3.2.0 from central in [default]\n",
      "\torg.lz4#lz4-java;1.7.1 from central in [default]\n",
      "\torg.slf4j#slf4j-api;1.7.30 from central in [default]\n",
      "\torg.spark-project.spark#unused;1.0.0 from central in [default]\n",
      "\torg.xerial.snappy#snappy-java;1.1.8.4 from central in [default]\n",
      "\t---------------------------------------------------------------------\n",
      "\t|                  |            modules            ||   artifacts   |\n",
      "\t|       conf       | number| search|dwnlded|evicted|| number|dwnlded|\n",
      "\t---------------------------------------------------------------------\n",
      "\t|      default     |   13  |   0   |   0   |   0   ||   13  |   0   |\n",
      "\t---------------------------------------------------------------------\n",
      ":: retrieving :: org.apache.spark#spark-submit-parent-5a55c2d7-6160-4fba-8663-b4e06d624bba\n",
      "\tconfs: [default]\n",
      "\t0 artifacts copied, 13 already retrieved (0kB/8ms)\n",
      "22/01/13 22:18:59 WARN NativeCodeLoader: Unable to load native-hadoop library for your platform... using builtin-java classes where applicable\n",
      "Using Spark's default log4j profile: org/apache/spark/log4j-defaults.properties\n",
      "Setting default log level to \"WARN\".\n",
      "To adjust logging level use sc.setLogLevel(newLevel). For SparkR, use setLogLevel(newLevel).\n"
     ]
    }
   ],
   "source": [
    "sparkSession = SparkSession \\\n",
    "        .builder \\\n",
    "        .appName(\"TwitterStreamingAssignment\") \\\n",
    "        .master(\"local\") \\\n",
    "        .config(\"spark.jars.packages\", \"org.apache.spark:spark-sql-kafka-0-10_2.12:3.2.0\") \\\n",
    "        .getOrCreate()\n",
    "        \n",
    "sparkSession.sparkContext.setLogLevel(\"ERROR\")"
   ]
  },
  {
   "cell_type": "code",
   "execution_count": 4,
   "id": "ee93ae23",
   "metadata": {},
   "outputs": [],
   "source": [
    "schema = StructType() \\\n",
    "    .add(\"Created_date\", DateType()) \\\n",
    "        .add(\"Username\", StringType()) \\\n",
    "            .add(\"User_location\", StringType())\\\n",
    "                .add(\"Hashtags\", StringType()) \\\n",
    "                    .add(\"Text\", StringType())    "
   ]
  },
  {
   "cell_type": "code",
   "execution_count": 5,
   "id": "4fce986f",
   "metadata": {},
   "outputs": [],
   "source": [
    "posts_df = sparkSession.readStream \\\n",
    "    .format(\"kafka\") \\\n",
    "    .option(\"kafka.bootstrap.servers\", \"localhost:9092\") \\\n",
    "    .option(\"subscribe\", \"trump\") \\\n",
    "    .option(\"startingOffsets\", \"earliest\") \\\n",
    "    .load()\\\n",
    "    .select(from_json(col(\"value\").cast(\"string\"), schema, jsonOptions).alias(\"parsed_value\"), col(\"timestamp\").cast(\"string\").alias(\"time_stamp\"))"
   ]
  },
  {
   "cell_type": "code",
   "execution_count": 6,
   "id": "153355b4",
   "metadata": {},
   "outputs": [
    {
     "name": "stdout",
     "output_type": "stream",
     "text": [
      "root\n",
      " |-- parsed_value: struct (nullable = true)\n",
      " |    |-- Created_date: date (nullable = true)\n",
      " |    |-- Username: string (nullable = true)\n",
      " |    |-- User_location: string (nullable = true)\n",
      " |    |-- Hashtags: string (nullable = true)\n",
      " |    |-- Text: string (nullable = true)\n",
      " |-- time_stamp: string (nullable = true)\n",
      "\n"
     ]
    }
   ],
   "source": [
    "posts_df.printSchema()"
   ]
  },
  {
   "cell_type": "code",
   "execution_count": 7,
   "id": "6af306b7",
   "metadata": {},
   "outputs": [
    {
     "data": {
      "text/plain": [
       "False"
      ]
     },
     "execution_count": 7,
     "metadata": {},
     "output_type": "execute_result"
    }
   ],
   "source": [
    "col_stream = posts_df.writeStream.trigger(processingTime='5 seconds')\\\n",
    ".outputMode('update')\\\n",
    "    .option(\"truncate\", \"false\")\\\n",
    "        .option(\"checkpointLocation\", \".checkpoint/col_stream_checkpoint\")\\\n",
    "            .format(\"console\")\\\n",
    "                .start()\n",
    "\n",
    "col_stream.awaitTermination(1)"
   ]
  },
  {
   "cell_type": "code",
   "execution_count": 8,
   "id": "0a89117c",
   "metadata": {},
   "outputs": [],
   "source": [
    "hashtags_location = posts_df.select('parsed_value.Hashtags', 'parsed_value.User_location','time_stamp') \\\n",
    "    .filter(col(\"Hashtags\") != \"[]\").filter(col(\"Hashtags\").contains('Omicron'))"
   ]
  },
  {
   "cell_type": "code",
   "execution_count": 12,
   "id": "221b5339",
   "metadata": {},
   "outputs": [
    {
     "ename": "SyntaxError",
     "evalue": "invalid syntax (4257941161.py, line 2)",
     "output_type": "error",
     "traceback": [
      "\u001b[0;36m  File \u001b[0;32m\"/tmp/ipykernel_1149789/4257941161.py\"\u001b[0;36m, line \u001b[0;32m2\u001b[0m\n\u001b[0;31m    .withWaterMark(\"time_stamp\",\"10 minutes\") \\\u001b[0m\n\u001b[0m    ^\u001b[0m\n\u001b[0;31mSyntaxError\u001b[0m\u001b[0;31m:\u001b[0m invalid syntax\n"
     ]
    }
   ],
   "source": [
    "hashtags_count_per_location = hashtags_location\n",
    ".withWaterMark(\"time_stamp\",\"10 minutes\") \\\n",
    ".groupBy(col(\"User_location\"),\"time_stamp\").count().select('*')\n",
    "    \n",
    "hashtags_count_location = hashtags_count_per_location.writeStream.trigger(processingTime='60 seconds')\\\n",
    "    .outputMode('append')\\\n",
    "    .option(\"truncate\", \"false\")\\\n",
    "    .option(\"checkpointLocation\", \".checkpoint/hashtags_checkpoint\")\\\n",
    "    .format(\"csv\")\\\n",
    "    .option(\"path\", \"./\")\\\n",
    "    .start()\n",
    "                    \n",
    "hashtags_count_location.awaitTermination()"
   ]
  },
  {
   "cell_type": "code",
   "execution_count": null,
   "id": "976a3a05",
   "metadata": {},
   "outputs": [],
   "source": []
  }
 ],
 "metadata": {
  "kernelspec": {
   "display_name": "Python 3 (ipykernel)",
   "language": "python",
   "name": "python3"
  },
  "language_info": {
   "codemirror_mode": {
    "name": "ipython",
    "version": 3
   },
   "file_extension": ".py",
   "mimetype": "text/x-python",
   "name": "python",
   "nbconvert_exporter": "python",
   "pygments_lexer": "ipython3",
   "version": "3.9.7"
  }
 },
 "nbformat": 4,
 "nbformat_minor": 5
}
